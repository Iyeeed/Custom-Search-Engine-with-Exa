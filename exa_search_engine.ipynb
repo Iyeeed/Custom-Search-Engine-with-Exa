{
 "cells": [
  {
   "cell_type": "markdown",
   "id": "17894f10-c4e7-47f6-b31a-d37248c41ed8",
   "metadata": {},
   "source": [
    "**Import libs**\n"
   ]
  },
  {
   "cell_type": "code",
   "execution_count": 1,
   "id": "2b6059c8-cad0-4157-9867-cdf92a8ad1bb",
   "metadata": {
    "scrolled": true
   },
   "outputs": [
    {
     "name": "stdout",
     "output_type": "stream",
     "text": [
      "Collecting exa_py\n",
      "  Downloading exa_py-1.9.1-py3-none-any.whl.metadata (3.5 kB)\n",
      "Collecting openai<2.0,>=1.48 (from exa_py)\n",
      "  Downloading openai-1.68.2-py3-none-any.whl.metadata (25 kB)\n",
      "Collecting pydantic<3.0.0,>=2.10.6 (from exa_py)\n",
      "  Downloading pydantic-2.10.6-py3-none-any.whl.metadata (30 kB)\n",
      "Collecting pytest-mock<4.0.0,>=3.14.0 (from exa_py)\n",
      "  Downloading pytest_mock-3.14.0-py3-none-any.whl.metadata (3.8 kB)\n",
      "Requirement already satisfied: requests<3.0.0,>=2.32.3 in c:\\users\\iyed\\anaconda3\\lib\\site-packages (from exa_py) (2.32.3)\n",
      "Collecting typing-extensions<5.0.0,>=4.12.2 (from exa_py)\n",
      "  Downloading typing_extensions-4.12.2-py3-none-any.whl.metadata (3.0 kB)\n",
      "Requirement already satisfied: anyio<5,>=3.5.0 in c:\\users\\iyed\\anaconda3\\lib\\site-packages (from openai<2.0,>=1.48->exa_py) (4.2.0)\n",
      "Requirement already satisfied: distro<2,>=1.7.0 in c:\\users\\iyed\\anaconda3\\lib\\site-packages (from openai<2.0,>=1.48->exa_py) (1.9.0)\n",
      "Requirement already satisfied: httpx<1,>=0.23.0 in c:\\users\\iyed\\anaconda3\\lib\\site-packages (from openai<2.0,>=1.48->exa_py) (0.27.0)\n",
      "Collecting jiter<1,>=0.4.0 (from openai<2.0,>=1.48->exa_py)\n",
      "  Downloading jiter-0.9.0-cp312-cp312-win_amd64.whl.metadata (5.3 kB)\n",
      "Requirement already satisfied: sniffio in c:\\users\\iyed\\anaconda3\\lib\\site-packages (from openai<2.0,>=1.48->exa_py) (1.3.0)\n",
      "Requirement already satisfied: tqdm>4 in c:\\users\\iyed\\anaconda3\\lib\\site-packages (from openai<2.0,>=1.48->exa_py) (4.66.5)\n",
      "Requirement already satisfied: annotated-types>=0.6.0 in c:\\users\\iyed\\anaconda3\\lib\\site-packages (from pydantic<3.0.0,>=2.10.6->exa_py) (0.6.0)\n",
      "Collecting pydantic-core==2.27.2 (from pydantic<3.0.0,>=2.10.6->exa_py)\n",
      "  Downloading pydantic_core-2.27.2-cp312-cp312-win_amd64.whl.metadata (6.7 kB)\n",
      "Requirement already satisfied: pytest>=6.2.5 in c:\\users\\iyed\\anaconda3\\lib\\site-packages (from pytest-mock<4.0.0,>=3.14.0->exa_py) (7.4.4)\n",
      "Requirement already satisfied: charset-normalizer<4,>=2 in c:\\users\\iyed\\anaconda3\\lib\\site-packages (from requests<3.0.0,>=2.32.3->exa_py) (3.3.2)\n",
      "Requirement already satisfied: idna<4,>=2.5 in c:\\users\\iyed\\anaconda3\\lib\\site-packages (from requests<3.0.0,>=2.32.3->exa_py) (3.7)\n",
      "Requirement already satisfied: urllib3<3,>=1.21.1 in c:\\users\\iyed\\anaconda3\\lib\\site-packages (from requests<3.0.0,>=2.32.3->exa_py) (2.2.3)\n",
      "Requirement already satisfied: certifi>=2017.4.17 in c:\\users\\iyed\\anaconda3\\lib\\site-packages (from requests<3.0.0,>=2.32.3->exa_py) (2024.8.30)\n",
      "Requirement already satisfied: httpcore==1.* in c:\\users\\iyed\\anaconda3\\lib\\site-packages (from httpx<1,>=0.23.0->openai<2.0,>=1.48->exa_py) (1.0.2)\n",
      "Requirement already satisfied: h11<0.15,>=0.13 in c:\\users\\iyed\\anaconda3\\lib\\site-packages (from httpcore==1.*->httpx<1,>=0.23.0->openai<2.0,>=1.48->exa_py) (0.14.0)\n",
      "Requirement already satisfied: iniconfig in c:\\users\\iyed\\anaconda3\\lib\\site-packages (from pytest>=6.2.5->pytest-mock<4.0.0,>=3.14.0->exa_py) (1.1.1)\n",
      "Requirement already satisfied: packaging in c:\\users\\iyed\\anaconda3\\lib\\site-packages (from pytest>=6.2.5->pytest-mock<4.0.0,>=3.14.0->exa_py) (24.1)\n",
      "Requirement already satisfied: pluggy<2.0,>=0.12 in c:\\users\\iyed\\anaconda3\\lib\\site-packages (from pytest>=6.2.5->pytest-mock<4.0.0,>=3.14.0->exa_py) (1.0.0)\n",
      "Requirement already satisfied: colorama in c:\\users\\iyed\\anaconda3\\lib\\site-packages (from pytest>=6.2.5->pytest-mock<4.0.0,>=3.14.0->exa_py) (0.4.6)\n",
      "Downloading exa_py-1.9.1-py3-none-any.whl (24 kB)\n",
      "Downloading openai-1.68.2-py3-none-any.whl (606 kB)\n",
      "   ---------------------------------------- 0.0/606.1 kB ? eta -:--:--\n",
      "   ---------------------------------------- 0.0/606.1 kB ? eta -:--:--\n",
      "   ----------------- ---------------------- 262.1/606.1 kB ? eta -:--:--\n",
      "   ----------------- ---------------------- 262.1/606.1 kB ? eta -:--:--\n",
      "   -------------------------------------- 606.1/606.1 kB 917.1 kB/s eta 0:00:00\n",
      "Downloading pydantic-2.10.6-py3-none-any.whl (431 kB)\n",
      "Downloading pydantic_core-2.27.2-cp312-cp312-win_amd64.whl (2.0 MB)\n",
      "   ---------------------------------------- 0.0/2.0 MB ? eta -:--:--\n",
      "   ---------------------------------------- 0.0/2.0 MB ? eta -:--:--\n",
      "   ---------- ----------------------------- 0.5/2.0 MB 2.1 MB/s eta 0:00:01\n",
      "   --------------- ------------------------ 0.8/2.0 MB 2.1 MB/s eta 0:00:01\n",
      "   -------------------------- ------------- 1.3/2.0 MB 1.9 MB/s eta 0:00:01\n",
      "   ------------------------------------ --- 1.8/2.0 MB 2.0 MB/s eta 0:00:01\n",
      "   ---------------------------------------- 2.0/2.0 MB 2.0 MB/s eta 0:00:00\n",
      "Downloading pytest_mock-3.14.0-py3-none-any.whl (9.9 kB)\n",
      "Downloading typing_extensions-4.12.2-py3-none-any.whl (37 kB)\n",
      "Downloading jiter-0.9.0-cp312-cp312-win_amd64.whl (207 kB)\n",
      "Installing collected packages: typing-extensions, jiter, pytest-mock, pydantic-core, pydantic, openai, exa_py\n",
      "  Attempting uninstall: typing-extensions\n",
      "    Found existing installation: typing_extensions 4.11.0\n",
      "    Uninstalling typing_extensions-4.11.0:\n",
      "      Successfully uninstalled typing_extensions-4.11.0\n",
      "  Attempting uninstall: pydantic-core\n",
      "    Found existing installation: pydantic_core 2.20.1\n",
      "    Uninstalling pydantic_core-2.20.1:\n",
      "      Successfully uninstalled pydantic_core-2.20.1\n",
      "  Attempting uninstall: pydantic\n",
      "    Found existing installation: pydantic 2.8.2\n",
      "    Uninstalling pydantic-2.8.2:\n",
      "      Successfully uninstalled pydantic-2.8.2\n",
      "Successfully installed exa_py-1.9.1 jiter-0.9.0 openai-1.68.2 pydantic-2.10.6 pydantic-core-2.27.2 pytest-mock-3.14.0 typing-extensions-4.12.2\n",
      "Note: you may need to restart the kernel to use updated packages.\n"
     ]
    },
    {
     "name": "stderr",
     "output_type": "stream",
     "text": [
      "\n",
      "[notice] A new release of pip is available: 25.0 -> 25.0.1\n",
      "[notice] To update, run: C:\\Users\\Iyed\\anaconda3\\python.exe -m pip install --upgrade pip\n"
     ]
    }
   ],
   "source": [
    "pip install exa_py"
   ]
  },
  {
   "cell_type": "markdown",
   "id": "b2589afe-2c90-44dd-96b0-877a988e4849",
   "metadata": {},
   "source": [
    "define exa api key\n",
    "#https://dashboard.exa.ai/playground"
   ]
  },
  {
   "cell_type": "code",
   "execution_count": 3,
   "id": "66fa8fd4-6645-4143-a0dc-d96a1654413e",
   "metadata": {},
   "outputs": [],
   "source": [
    "from exa_py import Exa\n",
    "exa = Exa('your_key_here')"
   ]
  },
  {
   "cell_type": "markdown",
   "id": "083a2a8a-9a72-4524-8041-3e157b5a1097",
   "metadata": {},
   "source": [
    "**Results with different social medias**"
   ]
  },
  {
   "cell_type": "code",
   "execution_count": 12,
   "id": "b8399584-c0c6-4ecb-983b-55a1d83649c9",
   "metadata": {},
   "outputs": [
    {
     "name": "stdin",
     "output_type": "stream",
     "text": [
      "Search here:  best cold brew coffee in chicago\n"
     ]
    }
   ],
   "source": [
    "query = input('Search here: ')"
   ]
  },
  {
   "cell_type": "code",
   "execution_count": 13,
   "id": "cd8d3e29-c7b4-4dee-8f9a-60404ee01f58",
   "metadata": {},
   "outputs": [],
   "source": [
    "response = exa.search(\n",
    "  query,\n",
    "  num_results=10,\n",
    ")"
   ]
  },
  {
   "cell_type": "code",
   "execution_count": 14,
   "id": "32a83b8b-d1e7-4437-b752-21515423a096",
   "metadata": {},
   "outputs": [
    {
     "name": "stdout",
     "output_type": "stream",
     "text": [
      "Title: Cold brew : r/chicagofood - Reddit\n",
      "URL: https://www.reddit.com/r/chicagofood/comments/qja9nb/cold_brew/\n",
      "ID: https://www.reddit.com/r/chicagofood/comments/qja9nb/cold_brew/\n",
      "Score: None\n",
      "Published Date: 2021-10-30T12:00:00.000Z\n",
      "Author: None\n",
      "Image: None\n",
      "Favicon: None\n",
      "Extras: None\n",
      "Subpages: None\n",
      "Text: None\n",
      "Highlights: None\n",
      "Highlight Scores: None\n",
      "Summary: None\n",
      "\n",
      "\n",
      "Title: Where to Drink Iced Coffee in Chicago\n",
      "URL: https://chicago.eater.com/maps/chicago-best-iced-coffee-cold-brew-map\n",
      "ID: https://chicago.eater.com/maps/chicago-best-iced-coffee-cold-brew-map\n",
      "Score: None\n",
      "Published Date: 2024-05-22T12:00:00.000Z\n",
      "Author: None\n",
      "Image: None\n",
      "Favicon: None\n",
      "Extras: None\n",
      "Subpages: None\n",
      "Text: None\n",
      "Highlights: None\n",
      "Highlight Scores: None\n",
      "Summary: None\n",
      "\n",
      "\n",
      "Title: Kyoto Black - Kyoto Style Cold Brew Coffee\n",
      "URL: https://kyotostylecoffee.com/?srsltid=AfmBOooF3fFtLebI9SgI42JstMVFc4lCz79Cr50y-q-4h4z3Nw9D54ph\n",
      "ID: https://kyotostylecoffee.com/?srsltid=AfmBOooF3fFtLebI9SgI42JstMVFc4lCz79Cr50y-q-4h4z3Nw9D54ph\n",
      "Score: None\n",
      "Published Date: None\n",
      "Author: None\n",
      "Image: None\n",
      "Favicon: None\n",
      "Extras: None\n",
      "Subpages: None\n",
      "Text: None\n",
      "Highlights: None\n",
      "Highlight Scores: None\n",
      "Summary: None\n",
      "\n",
      "\n",
      "Title: TOP TEN BEST Cold Brewed Coffee in Chicago, IL - Yelp\n",
      "URL: https://www.yelp.com/search?find_desc=Cold+Brewed+Coffee&find_loc=Chicago%2C+IL\n",
      "ID: https://www.yelp.com/search?find_desc=Cold+Brewed+Coffee&find_loc=Chicago%2C+IL\n",
      "Score: None\n",
      "Published Date: None\n",
      "Author: None\n",
      "Image: None\n",
      "Favicon: None\n",
      "Extras: None\n",
      "Subpages: None\n",
      "Text: None\n",
      "Highlights: None\n",
      "Highlight Scores: None\n",
      "Summary: None\n",
      "\n",
      "\n",
      "Title: Chicago Blend - Metropolis Coffee Company\n",
      "URL: https://www.metropoliscoffee.com/products/chicago-blend\n",
      "ID: https://www.metropoliscoffee.com/products/chicago-blend\n",
      "Score: None\n",
      "Published Date: None\n",
      "Author: None\n",
      "Image: None\n",
      "Favicon: None\n",
      "Extras: None\n",
      "Subpages: None\n",
      "Text: None\n",
      "Highlights: None\n",
      "Highlight Scores: None\n",
      "Summary: None\n",
      "\n",
      "\n",
      "Title: The best iced coffee drinks to try in Chicago right now - Time Out\n",
      "URL: https://www.timeout.com/chicago/restaurants/best-iced-coffee-in-chicago\n",
      "ID: https://www.timeout.com/chicago/restaurants/best-iced-coffee-in-chicago\n",
      "Score: None\n",
      "Published Date: 2024-07-18T12:00:00.000Z\n",
      "Author: None\n",
      "Image: None\n",
      "Favicon: None\n",
      "Extras: None\n",
      "Subpages: None\n",
      "Text: None\n",
      "Highlights: None\n",
      "Highlight Scores: None\n",
      "Summary: None\n",
      "\n",
      "\n",
      "Title: Best Cold brew in Chicago, IL - Honeybear Cafe\n",
      "URL: https://honeybearrp.com/tags/cold-brew\n",
      "ID: https://honeybearrp.com/tags/cold-brew\n",
      "Score: None\n",
      "Published Date: None\n",
      "Author: None\n",
      "Image: None\n",
      "Favicon: None\n",
      "Extras: None\n",
      "Subpages: None\n",
      "Text: None\n",
      "Highlights: None\n",
      "Highlight Scores: None\n",
      "Summary: None\n",
      "\n",
      "\n",
      "Title: Chicago Cafe Recommendations (Coffee Fest 2022) - Page 2\n",
      "URL: https://www.home-barista.com/cafes/chicago-cafe-recommendations-coffee-fest-2022-t81048-10.html\n",
      "ID: https://www.home-barista.com/cafes/chicago-cafe-recommendations-coffee-fest-2022-t81048-10.html\n",
      "Score: None\n",
      "Published Date: 2022-06-28T12:00:00.000Z\n",
      "Author: None\n",
      "Image: None\n",
      "Favicon: None\n",
      "Extras: None\n",
      "Subpages: None\n",
      "Text: None\n",
      "Highlights: None\n",
      "Highlight Scores: None\n",
      "Summary: None\n",
      "\n",
      "\n",
      "Title: Clash of the Cold Brews - Chicago Magazine\n",
      "URL: https://www.chicagomag.com/chicago-magazine/december-2020/how-do-you-like-your-coffee/clash-of-the-cold-brews/\n",
      "ID: https://www.chicagomag.com/chicago-magazine/december-2020/how-do-you-like-your-coffee/clash-of-the-cold-brews/\n",
      "Score: None\n",
      "Published Date: 2020-12-09T12:00:00.000Z\n",
      "Author: None\n",
      "Image: None\n",
      "Favicon: None\n",
      "Extras: None\n",
      "Subpages: None\n",
      "Text: None\n",
      "Highlights: None\n",
      "Highlight Scores: None\n",
      "Summary: None\n",
      "\n",
      "\n",
      "Title: Which Chicago-based company makes the best coffee? - Quora\n",
      "URL: https://www.quora.com/Which-Chicago-based-company-makes-the-best-coffee\n",
      "ID: https://www.quora.com/Which-Chicago-based-company-makes-the-best-coffee\n",
      "Score: None\n",
      "Published Date: 2011-01-17T12:00:00.000Z\n",
      "Author: None\n",
      "Image: None\n",
      "Favicon: None\n",
      "Extras: None\n",
      "Subpages: None\n",
      "Text: None\n",
      "Highlights: None\n",
      "Highlight Scores: None\n",
      "Summary: None\n",
      "\n",
      "\n",
      "Autoprompt String: best cold brew coffee in chicago\n",
      "Resolved Search Type: keyword\n",
      "CostDollars: total=0.005\n",
      "  - search: {'neural': 0.005}\n"
     ]
    }
   ],
   "source": [
    "print(response)"
   ]
  },
  {
   "cell_type": "code",
   "execution_count": 15,
   "id": "b24b3fb3-fc43-4006-9921-ea475c96e572",
   "metadata": {},
   "outputs": [
    {
     "name": "stdin",
     "output_type": "stream",
     "text": [
      "Search here:  best pizza in brooklyn\n"
     ]
    }
   ],
   "source": [
    "query = input('Search here: ')"
   ]
  },
  {
   "cell_type": "code",
   "execution_count": 16,
   "id": "cd0c3cd6-400d-473e-97cf-19cff4da2bd5",
   "metadata": {},
   "outputs": [],
   "source": [
    "response = exa.search(\n",
    "  query,\n",
    "  num_results=10,\n",
    "  start_published_date='2023-05-01', \n",
    "  category='tweet', \n",
    "  use_autoprompt=True,\n",
    ")"
   ]
  },
  {
   "cell_type": "code",
   "execution_count": 17,
   "id": "aaf4fab5-80a9-48d1-acbb-c9b7afe6ac52",
   "metadata": {},
   "outputs": [
    {
     "name": "stdout",
     "output_type": "stream",
     "text": [
      "\n",
      "Resolved Search Type: neural\n",
      "CostDollars: total=0\n"
     ]
    }
   ],
   "source": [
    "print(response)"
   ]
  },
  {
   "cell_type": "code",
   "execution_count": 23,
   "id": "b6c87e29-2a14-4df6-b1be-bbac7e89df58",
   "metadata": {},
   "outputs": [
    {
     "name": "stdin",
     "output_type": "stream",
     "text": [
      "Search here:  top 5 arsenal moments\n"
     ]
    }
   ],
   "source": [
    "query = input('Search here: ')"
   ]
  },
  {
   "cell_type": "code",
   "execution_count": 24,
   "id": "40e2cceb-ac9a-40df-b530-45e6e58235c1",
   "metadata": {},
   "outputs": [],
   "source": [
    "response = exa.search(\n",
    "  query,\n",
    "  num_results=5,\n",
    "  type='keyword',\n",
    "  include_domains=['https://www.tiktok.com'],\n",
    ")\n"
   ]
  },
  {
   "cell_type": "code",
   "execution_count": 25,
   "id": "e72648e1-c581-4a7b-ba8f-ba4bc4918da4",
   "metadata": {},
   "outputs": [
    {
     "name": "stdout",
     "output_type": "stream",
     "text": [
      "Title: Top 5 Arsenal moments #footballtiktok #premierleague\n",
      "URL: https://www.tiktok.com/@guess_the_footballer_eng/video/7462390097401433376\n",
      "\n",
      "Title: Arsenal Best Moments 2022\n",
      "URL: https://www.tiktok.com/discover/arsenal-best-moments-2022\n",
      "\n",
      "Title: Arsenal Champions League Moments and Highlights\n",
      "URL: https://www.tiktok.com/@arsenal/video/7481324650715286806\n",
      "\n",
      "Title: My TOP 5 Favourite Arsenal Goals in 23/24 #arsenalfc #afc ...\n",
      "URL: https://www.tiktok.com/@rory_talks_arsenal/video/7374076577719520545\n",
      "\n",
      "Title: Unforgettable Arsenal Champions League Moments\n",
      "URL: https://www.tiktok.com/@papapincus/video/7456163084466408737\n",
      "\n"
     ]
    }
   ],
   "source": [
    "for result in response.results:\n",
    "  print(f'Title: {result.title}')\n",
    "  print(f'URL: {result.url}')\n",
    "  print()"
   ]
  }
 ],
 "metadata": {
  "kernelspec": {
   "display_name": "Python 3 (ipykernel)",
   "language": "python",
   "name": "python3"
  },
  "language_info": {
   "codemirror_mode": {
    "name": "ipython",
    "version": 3
   },
   "file_extension": ".py",
   "mimetype": "text/x-python",
   "name": "python",
   "nbconvert_exporter": "python",
   "pygments_lexer": "ipython3",
   "version": "3.12.7"
  }
 },
 "nbformat": 4,
 "nbformat_minor": 5
}
